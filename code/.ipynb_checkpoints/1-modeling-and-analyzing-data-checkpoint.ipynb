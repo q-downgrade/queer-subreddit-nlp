{
 "cells": [
  {
   "cell_type": "markdown",
   "metadata": {},
   "source": [
    "# Identifying Language Trends Among Queer Communities\n",
    "### By: Q Leedham"
   ]
  },
  {
   "cell_type": "markdown",
   "metadata": {},
   "source": [
    "## Problem Statement\n",
    "\n",
    "A linguist professor recently approached me about a project looking into the different language used among small communities of people. They were particularly interested in studying the different ways that members of the LGBT community communicate with each other. I agreed to help use natural language processing to classify some online text as part of the project. As a queer transfeminine person, I decided to look into the language trans people and queer women use when talking to others in their communities. Are there specific words or phrases that the communities use more often than others when talking to each other?\n",
    "\n",
    "I will build classification models to answer this problem, using accuracy to evaluate the models."
   ]
  },
  {
   "cell_type": "markdown",
   "metadata": {},
   "source": [
    "## Executive Summary\n",
    "\n",
    "The goal of this project is to find out if it's possible to classify posts made by the trans community and the lesbian community using posts shared on Reddit. Codeswitching, the act of changing your vocabularly and mannerisms when you're in a group of like people compared to society at large, can happen in the queer community, but does it happen in subcommunities within it? I tried to see if this is the case using various classification methods.\n",
    "\n",
    "For the most part, the posts on in the two subreddits I looked at did not have any selftext, or body text, so the models used only the titles of the posts that were scraped.\n",
    "\n",
    "The best model for this was a Multinomial Naive Bayes model, though many other classification models came close in terms of accuracy. Despite the potential overlap of the two communities I looked at, the models were able to successfully classify posts with some accuracy. They can be used to help show the difference in language used within these two subgroups."
   ]
  },
  {
   "cell_type": "markdown",
   "metadata": {},
   "source": [
    "## Table of Contents\n",
    " - [Data Dictionary](#Data-Dictionary)\n",
    " - [Loading Libraries & Data](#Loading-Libraries-&--Data)\n",
    " - [Exploratory Data Analysis](#Exploratory-Data-Analysis)\n",
    " - [Processing Data](#Processing-Data)\n",
    " - [Modeling](#Modeling)\n",
    "  - [Base Model](#Base-Model)\n",
    "  - [KNN Models](#KNN-Models)\n",
    "  - [Logistic Regression Models](#Logistic-Regression-Models)\n",
    "  - [Multinomial Naive Bayes Models](#Multinomial-Naive-Bayes-Models)\n",
    "  - [Gaussian Naive Bayes Models](#Gaussian-Naive-Bayes-Models)\n",
    "  - [SVC Models](#SVC-Models)\n",
    "  - [Decision Tree Models](#Decision-Tree-Models)\n",
    "  - [BaggingClassifier Models](#BaggingClassifier-Models)\n",
    "  - [Random Forest Models](#Random-Forest-Models)\n",
    " - [Model Selection](#Model-Selection)\n",
    " - [Model Evaluation](#Model-Evaluation)\n",
    " - [Conclusion](#Conclusion)\n",
    " - [Recommendations](#Recommendations)\n",
    " - [References](#References)"
   ]
  },
  {
   "cell_type": "markdown",
   "metadata": {},
   "source": [
    "## Data Dictionary"
   ]
  },
  {
   "cell_type": "markdown",
   "metadata": {},
   "source": [
    "|Feature|Type|Description|\n",
    "|---|---|---|\n",
    "|title|Object|Title of the post found on Reddit|\n",
    "|selftext|Object|Text of the post, if any|\n",
    "|subreddit|Object|The subreddit the post came from. Either r/traaaaaaannnnnnnnnns or r/actuallesbians|\n",
    "|created_utc|Int|The UTC timestamp of the post|\n",
    "|author|Object|Author of the post|\n",
    "|author_flair_text_|Object|Flair text of the author of each post, if any|\n",
    "|score|Int|The score of the post on Reddit|\n",
    "|is_self|bool|Whether the post contains selftext|\n",
    "|timestamp|Object|The date the post was made|\n"
   ]
  },
  {
   "cell_type": "markdown",
   "metadata": {},
   "source": [
    "## Loading Libraries &  Data"
   ]
  },
  {
   "cell_type": "code",
   "execution_count": 6,
   "metadata": {},
   "outputs": [],
   "source": [
    "import pandas as pd\n",
    "import matplotlib.pyplot as plt\n",
    "import seaborn as sns\n",
    "from sklearn.feature_extraction.stop_words import ENGLISH_STOP_WORDS as stopwords\n",
    "from sklearn.feature_extraction.text import CountVectorizer, TfidfVectorizer\n",
    "from sklearn.pipeline import Pipeline\n",
    "from sklearn.model_selection import cross_val_score, train_test_split, GridSearchCV\n",
    "from sklearn.linear_model import LogisticRegression\n",
    "from sklearn.naive_bayes import MultinomialNB, GaussianNB\n",
    "from sklearn.neighbors import KNeighborsClassifier\n",
    "from sklearn.svm import SVC\n",
    "from sklearn.ensemble import BaggingClassifier, RandomForestClassifier, ExtraTreesClassifier\n",
    "from sklearn.tree import DecisionTreeClassifier\n",
    "from sklearn.metrics import confusion_matrix\n",
    "from sklearn.preprocessing import StandardScaler, MinMaxScaler\n",
    "\n",
    "\n",
    "import warnings\n",
    "warnings.filterwarnings('ignore')"
   ]
  },
  {
   "cell_type": "markdown",
   "metadata": {},
   "source": [
    "## Exploratory Data Analysis"
   ]
  },
  {
   "cell_type": "code",
   "execution_count": 7,
   "metadata": {},
   "outputs": [],
   "source": [
    "data = pd.read_csv('../datasets/data.csv')"
   ]
  },
  {
   "cell_type": "code",
   "execution_count": 8,
   "metadata": {},
   "outputs": [
    {
     "data": {
      "text/html": [
       "<div>\n",
       "<style scoped>\n",
       "    .dataframe tbody tr th:only-of-type {\n",
       "        vertical-align: middle;\n",
       "    }\n",
       "\n",
       "    .dataframe tbody tr th {\n",
       "        vertical-align: top;\n",
       "    }\n",
       "\n",
       "    .dataframe thead th {\n",
       "        text-align: right;\n",
       "    }\n",
       "</style>\n",
       "<table border=\"1\" class=\"dataframe\">\n",
       "  <thead>\n",
       "    <tr style=\"text-align: right;\">\n",
       "      <th></th>\n",
       "      <th>index</th>\n",
       "      <th>title</th>\n",
       "      <th>selftext</th>\n",
       "      <th>subreddit</th>\n",
       "      <th>created_utc</th>\n",
       "      <th>author</th>\n",
       "      <th>author_flair_text</th>\n",
       "      <th>score</th>\n",
       "      <th>is_self</th>\n",
       "      <th>timestamp</th>\n",
       "    </tr>\n",
       "  </thead>\n",
       "  <tbody>\n",
       "    <tr>\n",
       "      <th>0</th>\n",
       "      <td>0</td>\n",
       "      <td>We Vibin</td>\n",
       "      <td>NaN</td>\n",
       "      <td>traaaaaaannnnnnnnnns</td>\n",
       "      <td>1579648948</td>\n",
       "      <td>RemIsAMess</td>\n",
       "      <td>Remy|FtM|Peecock Gen 4</td>\n",
       "      <td>1</td>\n",
       "      <td>False</td>\n",
       "      <td>2020-01-21</td>\n",
       "    </tr>\n",
       "    <tr>\n",
       "      <th>1</th>\n",
       "      <td>1</td>\n",
       "      <td>First week of T be like</td>\n",
       "      <td>NaN</td>\n",
       "      <td>traaaaaaannnnnnnnnns</td>\n",
       "      <td>1579649007</td>\n",
       "      <td>bubblegumblueart</td>\n",
       "      <td>Spicy FTMemer</td>\n",
       "      <td>1</td>\n",
       "      <td>False</td>\n",
       "      <td>2020-01-21</td>\n",
       "    </tr>\n",
       "    <tr>\n",
       "      <th>2</th>\n",
       "      <td>2</td>\n",
       "      <td>When you put on breast forms for the first time</td>\n",
       "      <td>NaN</td>\n",
       "      <td>traaaaaaannnnnnnnnns</td>\n",
       "      <td>1579649035</td>\n",
       "      <td>craft6886</td>\n",
       "      <td>NaN</td>\n",
       "      <td>1</td>\n",
       "      <td>False</td>\n",
       "      <td>2020-01-21</td>\n",
       "    </tr>\n",
       "    <tr>\n",
       "      <th>3</th>\n",
       "      <td>3</td>\n",
       "      <td>please, I need to know</td>\n",
       "      <td>NaN</td>\n",
       "      <td>traaaaaaannnnnnnnnns</td>\n",
       "      <td>1579649862</td>\n",
       "      <td>sociopathic_muffin</td>\n",
       "      <td>cant get a bf, became the bf</td>\n",
       "      <td>1</td>\n",
       "      <td>False</td>\n",
       "      <td>2020-01-21</td>\n",
       "    </tr>\n",
       "    <tr>\n",
       "      <th>4</th>\n",
       "      <td>4</td>\n",
       "      <td>\"I don't have E\" is such a h*cking mood</td>\n",
       "      <td>NaN</td>\n",
       "      <td>traaaaaaannnnnnnnnns</td>\n",
       "      <td>1579650222</td>\n",
       "      <td>A_Wild_Rat_Appeared</td>\n",
       "      <td>mtr, Male To Rat.</td>\n",
       "      <td>1</td>\n",
       "      <td>False</td>\n",
       "      <td>2020-01-21</td>\n",
       "    </tr>\n",
       "  </tbody>\n",
       "</table>\n",
       "</div>"
      ],
      "text/plain": [
       "   index                                            title selftext  \\\n",
       "0      0                                         We Vibin      NaN   \n",
       "1      1                          First week of T be like      NaN   \n",
       "2      2  When you put on breast forms for the first time      NaN   \n",
       "3      3                           please, I need to know      NaN   \n",
       "4      4          \"I don't have E\" is such a h*cking mood      NaN   \n",
       "\n",
       "              subreddit  created_utc               author  \\\n",
       "0  traaaaaaannnnnnnnnns   1579648948           RemIsAMess   \n",
       "1  traaaaaaannnnnnnnnns   1579649007     bubblegumblueart   \n",
       "2  traaaaaaannnnnnnnnns   1579649035            craft6886   \n",
       "3  traaaaaaannnnnnnnnns   1579649862   sociopathic_muffin   \n",
       "4  traaaaaaannnnnnnnnns   1579650222  A_Wild_Rat_Appeared   \n",
       "\n",
       "              author_flair_text  score  is_self   timestamp  \n",
       "0        Remy|FtM|Peecock Gen 4      1    False  2020-01-21  \n",
       "1                 Spicy FTMemer      1    False  2020-01-21  \n",
       "2                           NaN      1    False  2020-01-21  \n",
       "3  cant get a bf, became the bf      1    False  2020-01-21  \n",
       "4             mtr, Male To Rat.      1    False  2020-01-21  "
      ]
     },
     "execution_count": 8,
     "metadata": {},
     "output_type": "execute_result"
    }
   ],
   "source": [
    "data.head()"
   ]
  },
  {
   "cell_type": "code",
   "execution_count": 9,
   "metadata": {
    "scrolled": true
   },
   "outputs": [
    {
     "data": {
      "text/plain": [
       "False    5613\n",
       "True     2387\n",
       "Name: is_self, dtype: int64"
      ]
     },
     "execution_count": 9,
     "metadata": {},
     "output_type": "execute_result"
    }
   ],
   "source": [
    "data['is_self'].value_counts()"
   ]
  },
  {
   "cell_type": "code",
   "execution_count": 10,
   "metadata": {},
   "outputs": [
    {
     "data": {
      "text/html": [
       "<div>\n",
       "<style scoped>\n",
       "    .dataframe tbody tr th:only-of-type {\n",
       "        vertical-align: middle;\n",
       "    }\n",
       "\n",
       "    .dataframe tbody tr th {\n",
       "        vertical-align: top;\n",
       "    }\n",
       "\n",
       "    .dataframe thead th {\n",
       "        text-align: right;\n",
       "    }\n",
       "</style>\n",
       "<table border=\"1\" class=\"dataframe\">\n",
       "  <thead>\n",
       "    <tr style=\"text-align: right;\">\n",
       "      <th></th>\n",
       "      <th>index</th>\n",
       "      <th>title</th>\n",
       "      <th>selftext</th>\n",
       "      <th>subreddit</th>\n",
       "      <th>created_utc</th>\n",
       "      <th>author</th>\n",
       "      <th>author_flair_text</th>\n",
       "      <th>score</th>\n",
       "      <th>is_self</th>\n",
       "      <th>timestamp</th>\n",
       "    </tr>\n",
       "  </thead>\n",
       "  <tbody>\n",
       "    <tr>\n",
       "      <th>4000</th>\n",
       "      <td>4000</td>\n",
       "      <td>It's been 10 years and I've helped make these ...</td>\n",
       "      <td>The first half of my adult life spent trying t...</td>\n",
       "      <td>actuallesbians</td>\n",
       "      <td>1579649005</td>\n",
       "      <td>GhostInAPickleJar</td>\n",
       "      <td>NaN</td>\n",
       "      <td>1</td>\n",
       "      <td>True</td>\n",
       "      <td>2020-01-21</td>\n",
       "    </tr>\n",
       "    <tr>\n",
       "      <th>4001</th>\n",
       "      <td>4001</td>\n",
       "      <td>I gave a girl my number at a concert... yikes.</td>\n",
       "      <td>I still can't believe I did something *this s...</td>\n",
       "      <td>actuallesbians</td>\n",
       "      <td>1579651079</td>\n",
       "      <td>DressingRumour</td>\n",
       "      <td>NaN</td>\n",
       "      <td>1</td>\n",
       "      <td>True</td>\n",
       "      <td>2020-01-21</td>\n",
       "    </tr>\n",
       "    <tr>\n",
       "      <th>4002</th>\n",
       "      <td>4002</td>\n",
       "      <td>How do I talk to my sister</td>\n",
       "      <td>My sister is five years younger than me. She c...</td>\n",
       "      <td>actuallesbians</td>\n",
       "      <td>1579651133</td>\n",
       "      <td>Blurbmom19</td>\n",
       "      <td>NaN</td>\n",
       "      <td>1</td>\n",
       "      <td>True</td>\n",
       "      <td>2020-01-21</td>\n",
       "    </tr>\n",
       "    <tr>\n",
       "      <th>4003</th>\n",
       "      <td>4003</td>\n",
       "      <td>About to ask my crush out. Someone send help.</td>\n",
       "      <td>Basically I'm about to ask out one of my co-wo...</td>\n",
       "      <td>actuallesbians</td>\n",
       "      <td>1579651413</td>\n",
       "      <td>hot-gazpacho-</td>\n",
       "      <td>NaN</td>\n",
       "      <td>1</td>\n",
       "      <td>True</td>\n",
       "      <td>2020-01-21</td>\n",
       "    </tr>\n",
       "    <tr>\n",
       "      <th>4004</th>\n",
       "      <td>4004</td>\n",
       "      <td>Finally turning my crush into a platonic friend.</td>\n",
       "      <td>After a year and a half, I think my crush (let...</td>\n",
       "      <td>actuallesbians</td>\n",
       "      <td>1579653114</td>\n",
       "      <td>CronusDinerGM</td>\n",
       "      <td>NaN</td>\n",
       "      <td>1</td>\n",
       "      <td>True</td>\n",
       "      <td>2020-01-21</td>\n",
       "    </tr>\n",
       "  </tbody>\n",
       "</table>\n",
       "</div>"
      ],
      "text/plain": [
       "      index                                              title  \\\n",
       "4000   4000  It's been 10 years and I've helped make these ...   \n",
       "4001   4001     I gave a girl my number at a concert... yikes.   \n",
       "4002   4002                         How do I talk to my sister   \n",
       "4003   4003      About to ask my crush out. Someone send help.   \n",
       "4004   4004   Finally turning my crush into a platonic friend.   \n",
       "\n",
       "                                               selftext       subreddit  \\\n",
       "4000  The first half of my adult life spent trying t...  actuallesbians   \n",
       "4001   I still can't believe I did something *this s...  actuallesbians   \n",
       "4002  My sister is five years younger than me. She c...  actuallesbians   \n",
       "4003  Basically I'm about to ask out one of my co-wo...  actuallesbians   \n",
       "4004  After a year and a half, I think my crush (let...  actuallesbians   \n",
       "\n",
       "      created_utc             author author_flair_text  score  is_self  \\\n",
       "4000   1579649005  GhostInAPickleJar               NaN      1     True   \n",
       "4001   1579651079     DressingRumour               NaN      1     True   \n",
       "4002   1579651133         Blurbmom19               NaN      1     True   \n",
       "4003   1579651413      hot-gazpacho-               NaN      1     True   \n",
       "4004   1579653114      CronusDinerGM               NaN      1     True   \n",
       "\n",
       "       timestamp  \n",
       "4000  2020-01-21  \n",
       "4001  2020-01-21  \n",
       "4002  2020-01-21  \n",
       "4003  2020-01-21  \n",
       "4004  2020-01-21  "
      ]
     },
     "execution_count": 10,
     "metadata": {},
     "output_type": "execute_result"
    }
   ],
   "source": [
    "data[(data['is_self'] == True)].head()"
   ]
  },
  {
   "cell_type": "markdown",
   "metadata": {},
   "source": [
    "The is_self column refers to whether each post has selftext. Because so few posts have selftext, and those that do are only in one subreddit, we can drop both columns along with the redundant index column."
   ]
  },
  {
   "cell_type": "code",
   "execution_count": 11,
   "metadata": {},
   "outputs": [],
   "source": [
    "data.drop(columns = ['index', 'selftext', 'is_self'], inplace = True)"
   ]
  },
  {
   "cell_type": "code",
   "execution_count": 12,
   "metadata": {},
   "outputs": [
    {
     "data": {
      "text/plain": [
       "title                   0\n",
       "subreddit               0\n",
       "created_utc             0\n",
       "author                  0\n",
       "author_flair_text    5445\n",
       "score                   0\n",
       "timestamp               0\n",
       "dtype: int64"
      ]
     },
     "execution_count": 12,
     "metadata": {},
     "output_type": "execute_result"
    }
   ],
   "source": [
    "data.isnull().sum()"
   ]
  },
  {
   "cell_type": "markdown",
   "metadata": {},
   "source": [
    "The author_flair_text column is mostly null, so let's drop it."
   ]
  },
  {
   "cell_type": "code",
   "execution_count": 13,
   "metadata": {},
   "outputs": [],
   "source": [
    "data.drop(columns = ['author_flair_text'], inplace = True)"
   ]
  },
  {
   "cell_type": "code",
   "execution_count": 14,
   "metadata": {},
   "outputs": [],
   "source": [
    "pronouns = ['she', 'her', 'hers', 'he', 'him', 'his', 'they', 'them', 'theirs']\n",
    "stop_words = [word for word in stopwords if word not in pronouns ]"
   ]
  },
  {
   "cell_type": "markdown",
   "metadata": {},
   "source": [
    "Setting up a stop words list that doesn't include common pronouns. Since we're looking at queer subreddits, pronouns shouldn't be cut from the list of common words. Pronouns are especially important to the trans community in the r/traaaaaaannnnnnnnnns subreddit."
   ]
  },
  {
   "cell_type": "code",
   "execution_count": 15,
   "metadata": {
    "scrolled": true
   },
   "outputs": [
    {
     "data": {
      "image/png": "[encoded data removed]",
      "text/plain": [
       "<Figure size 432x288 with 1 Axes>"
      ]
     },
     "metadata": {
      "needs_background": "light"
     },
     "output_type": "display_data"
    }
   ],
   "source": [
    "count_traa = CountVectorizer(stop_words = stop_words) #counting the words used in in r/traaaaaaannnnnnnnnns\n",
    "\n",
    "data_traa = count_traa.fit_transform(data[data['subreddit'] == 'traaaaaaannnnnnnnnns']['title'])\n",
    "\n",
    "df_traa = pd.DataFrame(data_traa.toarray(), columns = count_traa.get_feature_names())\n",
    "\n",
    "df_traa.sum().sort_values(ascending = False).head(10).plot(kind = 'barh');"
   ]
  },
  {
   "cell_type": "markdown",
   "metadata": {},
   "source": [
    "The most commonly used word in r/traaaaaaannnnnnnnnns is, unsurprisngly, \"trans.\" It's notable that \"rights\" is the fourth most common word in the sample we have, as the term \"trans rights\" is a popular phrase among trans people."
   ]
  },
  {
   "cell_type": "code",
   "execution_count": 16,
   "metadata": {
    "scrolled": false
   },
   "outputs": [
    {
     "data": {
      "image/png": "[encoded data removed]",
      "text/plain": [
       "<Figure size 432x288 with 1 Axes>"
      ]
     },
     "metadata": {
      "needs_background": "light"
     },
     "output_type": "display_data"
    }
   ],
   "source": [
    "count_les = CountVectorizer(stop_words = stop_words) #counting the words used in in r/actuallesbians\n",
    "\n",
    "data_les = count_les.fit_transform(data[data['subreddit'] == 'actuallesbians']['title'])\n",
    "\n",
    "df_les = pd.DataFrame(data_les.toarray(), columns = count_les.get_feature_names())\n",
    "\n",
    "df_les.sum().sort_values(ascending = False).head(10).plot(kind = 'barh');"
   ]
  },
  {
   "cell_type": "markdown",
   "metadata": {},
   "source": [
    "\"Lesbian\" is the most common term in r/actuallesbians, with \"gay\" following as the second most common term. \"Girl,\" \"girlfriend,\" and \"lesbians\" are also high on the list.\n",
    "\n",
    "It is also notable that various pronouns are also included in the top 10 words used in both subreddits when they are removed from the list of stop words."
   ]
  },
  {
   "cell_type": "markdown",
   "metadata": {},
   "source": [
    "## Processing Data"
   ]
  },
  {
   "cell_type": "code",
   "execution_count": 17,
   "metadata": {},
   "outputs": [],
   "source": [
    "X = data['title'] # using only titles are the input \n",
    "y = data['subreddit'] # using the two subreddits as the target\n",
    "X_train, X_test, y_train, y_test = train_test_split(X, y, random_state = 7896, stratify = y)"
   ]
  },
  {
   "cell_type": "markdown",
   "metadata": {},
   "source": [
    "**Note:** I also tried lemmatizing the data to see how it effected my models, and the result was neglible. I removed the code to make this notebook a bit cleaner."
   ]
  },
  {
   "cell_type": "markdown",
   "metadata": {},
   "source": [
    "# Modeling"
   ]
  },
  {
   "cell_type": "markdown",
   "metadata": {},
   "source": [
    "### Base Model"
   ]
  },
  {
   "cell_type": "code",
   "execution_count": 13,
   "metadata": {},
   "outputs": [
    {
     "data": {
      "text/plain": [
       "actuallesbians          0.5\n",
       "traaaaaaannnnnnnnnns    0.5\n",
       "Name: subreddit, dtype: float64"
      ]
     },
     "execution_count": 13,
     "metadata": {},
     "output_type": "execute_result"
    }
   ],
   "source": [
    "y_test.value_counts(normalize = True)"
   ]
  },
  {
   "cell_type": "markdown",
   "metadata": {},
   "source": [
    "A base model would could assume that all posts are from either subreddit, and it would be right 50% of the time."
   ]
  },
  {
   "cell_type": "markdown",
   "metadata": {},
   "source": [
    "### KNN Models"
   ]
  },
  {
   "cell_type": "code",
   "execution_count": 14,
   "metadata": {},
   "outputs": [],
   "source": [
    "pipe = Pipeline(steps = [\n",
    "    ('count', CountVectorizer()), # running a countvectorizer to count the words used in both subreddits\n",
    "    ('knn', KNeighborsClassifier()) # running the word counts through a k-nearest neighbors model\n",
    "])\n",
    "\n",
    "params = {\n",
    "    'count__ngram_range' : [(1,1), (1,2), (1,3), (2,2)], # setting ngram options\n",
    "    'count__stop_words'  : ['english', stop_words, None], # setting stop word options\n",
    "    'count__max_features': [100, 500, 1000], # setting max features options\n",
    "    'knn__n_neighbors'    : [3, 5, 7, 9], # setting neighbors features options\n",
    "}\n",
    "\n",
    "gs_cvec_knn = GridSearchCV(pipe, #using a gridsearch to run through all the possible feature combinations\n",
    "                 param_grid = params,\n",
    "                 cv = 5,\n",
    "                 scoring = 'accuracy')\n",
    "\n",
    "gs_cvec_knn.fit(X_train, y_train);"
   ]
  },
  {
   "cell_type": "code",
   "execution_count": 15,
   "metadata": {},
   "outputs": [
    {
     "data": {
      "text/plain": [
       "Pipeline(memory=None,\n",
       "         steps=[('count',\n",
       "                 CountVectorizer(analyzer='word', binary=False,\n",
       "                                 decode_error='strict',\n",
       "                                 dtype=<class 'numpy.int64'>, encoding='utf-8',\n",
       "                                 input='content', lowercase=True, max_df=1.0,\n",
       "                                 max_features=500, min_df=1, ngram_range=(1, 1),\n",
       "                                 preprocessor=None,\n",
       "                                 stop_words=['through', 'front', 'whatever',\n",
       "                                             'wherein', 'cannot', 'seemed',\n",
       "                                             'nothing', 'we', 'between', 'dow...\n",
       "                                             'made', 'whose', 'also', 'else',\n",
       "                                             'co', 'latterly', 'hereafter',\n",
       "                                             'above', 'mostly', 'seem',\n",
       "                                             'formerly', 'my', 'i', 'very',\n",
       "                                             'by', 'many', ...],\n",
       "                                 strip_accents=None,\n",
       "                                 token_pattern='(?u)\\\\b\\\\w\\\\w+\\\\b',\n",
       "                                 tokenizer=None, vocabulary=None)),\n",
       "                ('knn',\n",
       "                 KNeighborsClassifier(algorithm='auto', leaf_size=30,\n",
       "                                      metric='minkowski', metric_params=None,\n",
       "                                      n_jobs=None, n_neighbors=3, p=2,\n",
       "                                      weights='uniform'))],\n",
       "         verbose=False)"
      ]
     },
     "execution_count": 15,
     "metadata": {},
     "output_type": "execute_result"
    }
   ],
   "source": [
    "gs_cvec_knn.best_estimator_ # finding the best estimator of the model"
   ]
  },
  {
   "cell_type": "code",
   "execution_count": 16,
   "metadata": {
    "scrolled": true
   },
   "outputs": [
    {
     "data": {
      "text/plain": [
       "0.8075"
      ]
     },
     "execution_count": 16,
     "metadata": {},
     "output_type": "execute_result"
    }
   ],
   "source": [
    "gs_cvec_knn.score(X_train, y_train) # getting the train accuracy score"
   ]
  },
  {
   "cell_type": "code",
   "execution_count": 17,
   "metadata": {},
   "outputs": [
    {
     "data": {
      "text/plain": [
       "0.6786666666666666"
      ]
     },
     "execution_count": 17,
     "metadata": {},
     "output_type": "execute_result"
    }
   ],
   "source": [
    "gs_cvec_knn.best_score_ # getting the cross validated accuracy score"
   ]
  },
  {
   "cell_type": "code",
   "execution_count": 18,
   "metadata": {
    "scrolled": true
   },
   "outputs": [
    {
     "data": {
      "text/plain": [
       "0.6455"
      ]
     },
     "execution_count": 18,
     "metadata": {},
     "output_type": "execute_result"
    }
   ],
   "source": [
    "gs_cvec_knn.score(X_test, y_test) # getting the test accuracy score"
   ]
  },
  {
   "cell_type": "markdown",
   "metadata": {},
   "source": [
    "This first model is better than the base model, but could definitely be a lot better."
   ]
  },
  {
   "cell_type": "code",
   "execution_count": 19,
   "metadata": {},
   "outputs": [],
   "source": [
    "pipe = Pipeline(steps = [\n",
    "    ('tfidf', TfidfVectorizer()),\n",
    "    ('knn', KNeighborsClassifier())\n",
    "])\n",
    "\n",
    "params = {\n",
    "    'tfidf__ngram_range' : [(1,1), (1,2), (1,3), (2,2)],\n",
    "    'tfidf__stop_words'  : ['english', stop_words, None],\n",
    "    'knn__n_neighbors'    : [3, 5, 7, 9],\n",
    "}\n",
    "\n",
    "gs_tfidf_knn = GridSearchCV(pipe,\n",
    "                 param_grid = params,\n",
    "                 cv = 5,\n",
    "                 scoring = 'accuracy')\n",
    "\n",
    "gs_tfidf_knn.fit(X_train, y_train);"
   ]
  },
  {
   "cell_type": "code",
   "execution_count": 20,
   "metadata": {},
   "outputs": [
    {
     "data": {
      "text/plain": [
       "Pipeline(memory=None,\n",
       "         steps=[('tfidf',\n",
       "                 TfidfVectorizer(analyzer='word', binary=False,\n",
       "                                 decode_error='strict',\n",
       "                                 dtype=<class 'numpy.float64'>,\n",
       "                                 encoding='utf-8', input='content',\n",
       "                                 lowercase=True, max_df=1.0, max_features=None,\n",
       "                                 min_df=1, ngram_range=(1, 1), norm='l2',\n",
       "                                 preprocessor=None, smooth_idf=True,\n",
       "                                 stop_words=['through', 'front', 'whatever',\n",
       "                                             'wherein', 'cannot', 'seemed',...\n",
       "                                             'co', 'latterly', 'hereafter',\n",
       "                                             'above', 'mostly', 'seem',\n",
       "                                             'formerly', 'my', 'i', 'very',\n",
       "                                             'by', 'many', ...],\n",
       "                                 strip_accents=None, sublinear_tf=False,\n",
       "                                 token_pattern='(?u)\\\\b\\\\w\\\\w+\\\\b',\n",
       "                                 tokenizer=None, use_idf=True,\n",
       "                                 vocabulary=None)),\n",
       "                ('knn',\n",
       "                 KNeighborsClassifier(algorithm='auto', leaf_size=30,\n",
       "                                      metric='minkowski', metric_params=None,\n",
       "                                      n_jobs=None, n_neighbors=3, p=2,\n",
       "                                      weights='uniform'))],\n",
       "         verbose=False)"
      ]
     },
     "execution_count": 20,
     "metadata": {},
     "output_type": "execute_result"
    }
   ],
   "source": [
    "gs_tfidf_knn.best_estimator_"
   ]
  },
  {
   "cell_type": "code",
   "execution_count": 21,
   "metadata": {
    "scrolled": true
   },
   "outputs": [
    {
     "data": {
      "text/plain": [
       "0.9278333333333333"
      ]
     },
     "execution_count": 21,
     "metadata": {},
     "output_type": "execute_result"
    }
   ],
   "source": [
    "gs_tfidf_knn.score(X_train, y_train)"
   ]
  },
  {
   "cell_type": "code",
   "execution_count": 22,
   "metadata": {},
   "outputs": [
    {
     "data": {
      "text/plain": [
       "0.591"
      ]
     },
     "execution_count": 22,
     "metadata": {},
     "output_type": "execute_result"
    }
   ],
   "source": [
    "gs_tfidf_knn.best_score_"
   ]
  },
  {
   "cell_type": "code",
   "execution_count": 23,
   "metadata": {
    "scrolled": true
   },
   "outputs": [
    {
     "data": {
      "text/plain": [
       "0.603"
      ]
     },
     "execution_count": 23,
     "metadata": {},
     "output_type": "execute_result"
    }
   ],
   "source": [
    "gs_tfidf_knn.score(X_test, y_test)"
   ]
  },
  {
   "cell_type": "markdown",
   "metadata": {},
   "source": [
    "This model using TfidfVectorizer instead of CountVectorizer performs slightly better, but could still be a lot better. Let's try a Logistic Regression model next to see how it performs."
   ]
  },
  {
   "cell_type": "markdown",
   "metadata": {},
   "source": [
    "### Logistic Regression Models"
   ]
  },
  {
   "cell_type": "code",
   "execution_count": 24,
   "metadata": {},
   "outputs": [],
   "source": [
    "pipe = Pipeline(steps = [\n",
    "    ('count', CountVectorizer()),\n",
    "    ('lr', LogisticRegression())\n",
    "])\n",
    "\n",
    "params = {\n",
    "    'count__ngram_range' : [(1,1), (1,2), (1,3), (2,2)],\n",
    "    'count__stop_words'  : ['english', stop_words, None],\n",
    "    'lr__penalty'        : ['l1', 'l2'],\n",
    "    'lr__C'              : [0.1, 0.3, 0.5, 0.7, 1, 10, 100]\n",
    "}\n",
    "\n",
    "gs_cvec_lr = GridSearchCV(pipe,\n",
    "                 param_grid = params,\n",
    "                 cv = 5,\n",
    "                 scoring = 'accuracy')\n",
    "\n",
    "gs_cvec_lr.fit(X_train, y_train);"
   ]
  },
  {
   "cell_type": "code",
   "execution_count": 25,
   "metadata": {},
   "outputs": [
    {
     "data": {
      "text/plain": [
       "Pipeline(memory=None,\n",
       "         steps=[('count',\n",
       "                 CountVectorizer(analyzer='word', binary=False,\n",
       "                                 decode_error='strict',\n",
       "                                 dtype=<class 'numpy.int64'>, encoding='utf-8',\n",
       "                                 input='content', lowercase=True, max_df=1.0,\n",
       "                                 max_features=None, min_df=1,\n",
       "                                 ngram_range=(1, 1), preprocessor=None,\n",
       "                                 stop_words=None, strip_accents=None,\n",
       "                                 token_pattern='(?u)\\\\b\\\\w\\\\w+\\\\b',\n",
       "                                 tokenizer=None, vocabulary=None)),\n",
       "                ('lr',\n",
       "                 LogisticRegression(C=1, class_weight=None, dual=False,\n",
       "                                    fit_intercept=True, intercept_scaling=1,\n",
       "                                    l1_ratio=None, max_iter=100,\n",
       "                                    multi_class='warn', n_jobs=None,\n",
       "                                    penalty='l2', random_state=None,\n",
       "                                    solver='warn', tol=0.0001, verbose=0,\n",
       "                                    warm_start=False))],\n",
       "         verbose=False)"
      ]
     },
     "execution_count": 25,
     "metadata": {},
     "output_type": "execute_result"
    }
   ],
   "source": [
    "gs_cvec_lr.best_estimator_"
   ]
  },
  {
   "cell_type": "code",
   "execution_count": 26,
   "metadata": {},
   "outputs": [
    {
     "data": {
      "text/plain": [
       "0.9303333333333333"
      ]
     },
     "execution_count": 26,
     "metadata": {},
     "output_type": "execute_result"
    }
   ],
   "source": [
    "gs_cvec_lr.score(X_train, y_train)"
   ]
  },
  {
   "cell_type": "code",
   "execution_count": 27,
   "metadata": {},
   "outputs": [
    {
     "data": {
      "text/plain": [
       "0.774"
      ]
     },
     "execution_count": 27,
     "metadata": {},
     "output_type": "execute_result"
    }
   ],
   "source": [
    "gs_cvec_lr.best_score_"
   ]
  },
  {
   "cell_type": "code",
   "execution_count": 28,
   "metadata": {
    "scrolled": true
   },
   "outputs": [
    {
     "data": {
      "text/plain": [
       "0.7665"
      ]
     },
     "execution_count": 28,
     "metadata": {},
     "output_type": "execute_result"
    }
   ],
   "source": [
    "gs_cvec_lr.score(X_test, y_test)"
   ]
  },
  {
   "cell_type": "code",
   "execution_count": 29,
   "metadata": {},
   "outputs": [],
   "source": [
    "pipe = Pipeline(steps = [\n",
    "    ('tfidf', TfidfVectorizer()),\n",
    "    ('lr', LogisticRegression())\n",
    "])\n",
    "\n",
    "params = {\n",
    "    'tfidf__ngram_range' : [(1,1), (1,2), (1,3), (2,2)],\n",
    "    'tfidf__stop_words'  : ['english', stop_words, None],\n",
    "    'lr__penalty'        : ['l1', 'l2'],\n",
    "    'lr__C'              : [0.1, 0.3, 0.5, 0.7, 1, 10, 100]\n",
    "}\n",
    "\n",
    "gs_tfidf_lr = GridSearchCV(pipe,\n",
    "                 param_grid = params,\n",
    "                 cv = 5,\n",
    "                 scoring = 'accuracy')\n",
    "\n",
    "gs_tfidf_lr.fit(X_train, y_train);"
   ]
  },
  {
   "cell_type": "code",
   "execution_count": 30,
   "metadata": {},
   "outputs": [
    {
     "data": {
      "text/plain": [
       "Pipeline(memory=None,\n",
       "         steps=[('tfidf',\n",
       "                 TfidfVectorizer(analyzer='word', binary=False,\n",
       "                                 decode_error='strict',\n",
       "                                 dtype=<class 'numpy.float64'>,\n",
       "                                 encoding='utf-8', input='content',\n",
       "                                 lowercase=True, max_df=1.0, max_features=None,\n",
       "                                 min_df=1, ngram_range=(1, 2), norm='l2',\n",
       "                                 preprocessor=None, smooth_idf=True,\n",
       "                                 stop_words=None, strip_accents=None,\n",
       "                                 sublinear_tf=False,\n",
       "                                 token_pattern='(?u)\\\\b\\\\w\\\\w+\\\\b',\n",
       "                                 tokenizer=None, use_idf=True,\n",
       "                                 vocabulary=None)),\n",
       "                ('lr',\n",
       "                 LogisticRegression(C=100, class_weight=None, dual=False,\n",
       "                                    fit_intercept=True, intercept_scaling=1,\n",
       "                                    l1_ratio=None, max_iter=100,\n",
       "                                    multi_class='warn', n_jobs=None,\n",
       "                                    penalty='l2', random_state=None,\n",
       "                                    solver='warn', tol=0.0001, verbose=0,\n",
       "                                    warm_start=False))],\n",
       "         verbose=False)"
      ]
     },
     "execution_count": 30,
     "metadata": {},
     "output_type": "execute_result"
    }
   ],
   "source": [
    "gs_tfidf_lr.best_estimator_"
   ]
  },
  {
   "cell_type": "code",
   "execution_count": 31,
   "metadata": {
    "scrolled": true
   },
   "outputs": [
    {
     "data": {
      "text/plain": [
       "0.9913333333333333"
      ]
     },
     "execution_count": 31,
     "metadata": {},
     "output_type": "execute_result"
    }
   ],
   "source": [
    "gs_tfidf_lr.score(X_train, y_train)"
   ]
  },
  {
   "cell_type": "code",
   "execution_count": 32,
   "metadata": {},
   "outputs": [
    {
     "data": {
      "text/plain": [
       "0.7746666666666666"
      ]
     },
     "execution_count": 32,
     "metadata": {},
     "output_type": "execute_result"
    }
   ],
   "source": [
    "gs_tfidf_lr.best_score_"
   ]
  },
  {
   "cell_type": "code",
   "execution_count": 33,
   "metadata": {},
   "outputs": [
    {
     "data": {
      "text/plain": [
       "0.767"
      ]
     },
     "execution_count": 33,
     "metadata": {},
     "output_type": "execute_result"
    }
   ],
   "source": [
    "gs_tfidf_lr.score(X_test, y_test)"
   ]
  },
  {
   "cell_type": "markdown",
   "metadata": {},
   "source": [
    "These models perform better than either of the KNN models above, but they could definitely be better."
   ]
  },
  {
   "cell_type": "markdown",
   "metadata": {},
   "source": [
    "### Multinomial Naive Bayes Models"
   ]
  },
  {
   "cell_type": "code",
   "execution_count": 34,
   "metadata": {},
   "outputs": [],
   "source": [
    "pipe = Pipeline(steps = [\n",
    "    ('count', CountVectorizer()),\n",
    "    ('nb', MultinomialNB())\n",
    "])\n",
    "\n",
    "params = {\n",
    "    'count__ngram_range' : [(1,1), (1,2), (1,3), (2,2)],\n",
    "    'count__stop_words'  : ['english', stop_words, None]\n",
    "}\n",
    "\n",
    "gs_cvec_nb = GridSearchCV(pipe,\n",
    "                 param_grid = params,\n",
    "                 cv = 5,\n",
    "                 scoring = 'accuracy')\n",
    "\n",
    "gs_cvec_nb.fit(X_train, y_train);"
   ]
  },
  {
   "cell_type": "code",
   "execution_count": 35,
   "metadata": {},
   "outputs": [
    {
     "data": {
      "text/plain": [
       "Pipeline(memory=None,\n",
       "         steps=[('count',\n",
       "                 CountVectorizer(analyzer='word', binary=False,\n",
       "                                 decode_error='strict',\n",
       "                                 dtype=<class 'numpy.int64'>, encoding='utf-8',\n",
       "                                 input='content', lowercase=True, max_df=1.0,\n",
       "                                 max_features=None, min_df=1,\n",
       "                                 ngram_range=(1, 1), preprocessor=None,\n",
       "                                 stop_words=None, strip_accents=None,\n",
       "                                 token_pattern='(?u)\\\\b\\\\w\\\\w+\\\\b',\n",
       "                                 tokenizer=None, vocabulary=None)),\n",
       "                ('nb',\n",
       "                 MultinomialNB(alpha=1.0, class_prior=None, fit_prior=True))],\n",
       "         verbose=False)"
      ]
     },
     "execution_count": 35,
     "metadata": {},
     "output_type": "execute_result"
    }
   ],
   "source": [
    "gs_cvec_nb.best_estimator_"
   ]
  },
  {
   "cell_type": "code",
   "execution_count": 36,
   "metadata": {
    "scrolled": true
   },
   "outputs": [
    {
     "data": {
      "text/plain": [
       "0.8915"
      ]
     },
     "execution_count": 36,
     "metadata": {},
     "output_type": "execute_result"
    }
   ],
   "source": [
    "gs_cvec_nb.score(X_train, y_train)"
   ]
  },
  {
   "cell_type": "code",
   "execution_count": 37,
   "metadata": {},
   "outputs": [
    {
     "data": {
      "text/plain": [
       "0.7801666666666667"
      ]
     },
     "execution_count": 37,
     "metadata": {},
     "output_type": "execute_result"
    }
   ],
   "source": [
    "gs_cvec_nb.best_score_"
   ]
  },
  {
   "cell_type": "code",
   "execution_count": 38,
   "metadata": {},
   "outputs": [
    {
     "data": {
      "text/plain": [
       "0.7805"
      ]
     },
     "execution_count": 38,
     "metadata": {},
     "output_type": "execute_result"
    }
   ],
   "source": [
    "gs_cvec_nb.score(X_test, y_test)"
   ]
  },
  {
   "cell_type": "code",
   "execution_count": 18,
   "metadata": {},
   "outputs": [],
   "source": [
    "pipe = Pipeline(steps = [\n",
    "    ('tfidf', TfidfVectorizer()),\n",
    "    ('nb', MultinomialNB())\n",
    "])\n",
    "\n",
    "params = {\n",
    "    'tfidf__ngram_range' : [(1,1), (1,2), (1,3), (2,2)],\n",
    "    'tfidf__stop_words'  : ['english', stop_words]\n",
    "}\n",
    "\n",
    "gs_tfidf_nb = GridSearchCV(pipe,\n",
    "                 param_grid = params,\n",
    "                 cv = 5,\n",
    "                 scoring = 'accuracy')\n",
    "\n",
    "gs_tfidf_nb.fit(X_train, y_train);"
   ]
  },
  {
   "cell_type": "code",
   "execution_count": 40,
   "metadata": {},
   "outputs": [
    {
     "data": {
      "text/plain": [
       "Pipeline(memory=None,\n",
       "         steps=[('tfidf',\n",
       "                 TfidfVectorizer(analyzer='word', binary=False,\n",
       "                                 decode_error='strict',\n",
       "                                 dtype=<class 'numpy.float64'>,\n",
       "                                 encoding='utf-8', input='content',\n",
       "                                 lowercase=True, max_df=1.0, max_features=None,\n",
       "                                 min_df=1, ngram_range=(1, 3), norm='l2',\n",
       "                                 preprocessor=None, smooth_idf=True,\n",
       "                                 stop_words=['through', 'front', 'whatever',\n",
       "                                             'wherein', 'cannot', 'seemed',...\n",
       "                                             'why', 'sixty', 'had', 'first',\n",
       "                                             'made', 'whose', 'also', 'else',\n",
       "                                             'co', 'latterly', 'hereafter',\n",
       "                                             'above', 'mostly', 'seem',\n",
       "                                             'formerly', 'my', 'i', 'very',\n",
       "                                             'by', 'many', ...],\n",
       "                                 strip_accents=None, sublinear_tf=False,\n",
       "                                 token_pattern='(?u)\\\\b\\\\w\\\\w+\\\\b',\n",
       "                                 tokenizer=None, use_idf=True,\n",
       "                                 vocabulary=None)),\n",
       "                ('nb',\n",
       "                 MultinomialNB(alpha=1.0, class_prior=None, fit_prior=True))],\n",
       "         verbose=False)"
      ]
     },
     "execution_count": 40,
     "metadata": {},
     "output_type": "execute_result"
    }
   ],
   "source": [
    "gs_tfidf_nb.best_estimator_"
   ]
  },
  {
   "cell_type": "code",
   "execution_count": 41,
   "metadata": {
    "scrolled": true
   },
   "outputs": [
    {
     "data": {
      "text/plain": [
       "0.9701666666666666"
      ]
     },
     "execution_count": 41,
     "metadata": {},
     "output_type": "execute_result"
    }
   ],
   "source": [
    "gs_tfidf_nb.score(X_train, y_train)"
   ]
  },
  {
   "cell_type": "code",
   "execution_count": 42,
   "metadata": {},
   "outputs": [
    {
     "data": {
      "text/plain": [
       "0.7716666666666666"
      ]
     },
     "execution_count": 42,
     "metadata": {},
     "output_type": "execute_result"
    }
   ],
   "source": [
    "gs_tfidf_nb.best_score_"
   ]
  },
  {
   "cell_type": "code",
   "execution_count": 43,
   "metadata": {},
   "outputs": [
    {
     "data": {
      "text/plain": [
       "0.7745"
      ]
     },
     "execution_count": 43,
     "metadata": {},
     "output_type": "execute_result"
    }
   ],
   "source": [
    "gs_tfidf_nb.score(X_test, y_test)"
   ]
  },
  {
   "cell_type": "markdown",
   "metadata": {},
   "source": [
    "These are the best scoring models so far. Going to try another Naive Bayes model next to see if the results get any better."
   ]
  },
  {
   "cell_type": "markdown",
   "metadata": {},
   "source": [
    "### Gaussian Naive Bayes Models"
   ]
  },
  {
   "cell_type": "code",
   "execution_count": 44,
   "metadata": {},
   "outputs": [],
   "source": [
    "tfidf = TfidfVectorizer(ngram_range = (1,1), stop_words = stop_words) # setting up a vectorizer\n",
    "X_train_gnb_tfidf = tfidf.fit_transform(X_train) # transforming the data before running through a gaussian nb model\n",
    "X_test_gnb_tfidf = tfidf.transform(X_test)"
   ]
  },
  {
   "cell_type": "code",
   "execution_count": 45,
   "metadata": {},
   "outputs": [
    {
     "data": {
      "text/plain": [
       "GaussianNB(priors=None, var_smoothing=1e-09)"
      ]
     },
     "execution_count": 45,
     "metadata": {},
     "output_type": "execute_result"
    }
   ],
   "source": [
    "gnb_tfidf = GaussianNB() # instantiating the model\n",
    "gnb_tfidf.fit(X_train_gnb_tfidf.toarray(), y_train) # fitting the model, using a dense array of X_train"
   ]
  },
  {
   "cell_type": "code",
   "execution_count": 46,
   "metadata": {},
   "outputs": [
    {
     "data": {
      "text/plain": [
       "0.8453333333333334"
      ]
     },
     "execution_count": 46,
     "metadata": {},
     "output_type": "execute_result"
    }
   ],
   "source": [
    "gnb_tfidf.score(X_train_gnb_tfidf.toarray(), y_train) # scoring the model with train data"
   ]
  },
  {
   "cell_type": "code",
   "execution_count": 47,
   "metadata": {
    "scrolled": false
   },
   "outputs": [
    {
     "data": {
      "text/plain": [
       "0.6435"
      ]
     },
     "execution_count": 47,
     "metadata": {},
     "output_type": "execute_result"
    }
   ],
   "source": [
    "gnb_tfidf.score(X_test_gnb_tfidf.toarray(), y_test) # scoring the model with test data"
   ]
  },
  {
   "cell_type": "code",
   "execution_count": 48,
   "metadata": {},
   "outputs": [],
   "source": [
    "count = CountVectorizer(ngram_range = (1,1), stop_words = stop_words)\n",
    "X_train_gnb_cvec = count.fit_transform(X_train)\n",
    "X_test_gnb_cvec = count.transform(X_test)"
   ]
  },
  {
   "cell_type": "code",
   "execution_count": 49,
   "metadata": {},
   "outputs": [
    {
     "data": {
      "text/plain": [
       "GaussianNB(priors=None, var_smoothing=1e-09)"
      ]
     },
     "execution_count": 49,
     "metadata": {},
     "output_type": "execute_result"
    }
   ],
   "source": [
    "gnb_cvec = GaussianNB()\n",
    "gnb_cvec.fit(X_train_gnb_cvec.toarray(), y_train)"
   ]
  },
  {
   "cell_type": "code",
   "execution_count": 50,
   "metadata": {},
   "outputs": [
    {
     "data": {
      "text/plain": [
       "0.8301666666666667"
      ]
     },
     "execution_count": 50,
     "metadata": {},
     "output_type": "execute_result"
    }
   ],
   "source": [
    "gnb_cvec.score(X_train_gnb_cvec.toarray(), y_train)"
   ]
  },
  {
   "cell_type": "code",
   "execution_count": 51,
   "metadata": {},
   "outputs": [
    {
     "data": {
      "text/plain": [
       "0.637"
      ]
     },
     "execution_count": 51,
     "metadata": {},
     "output_type": "execute_result"
    }
   ],
   "source": [
    "gnb_cvec.score(X_test_gnb_cvec.toarray(), y_test)"
   ]
  },
  {
   "cell_type": "markdown",
   "metadata": {},
   "source": [
    "These models are very overfit. The MultinomialNB is still a lot better. Going to try SVC next to see if that is any better."
   ]
  },
  {
   "cell_type": "markdown",
   "metadata": {},
   "source": [
    "### SVC Models"
   ]
  },
  {
   "cell_type": "code",
   "execution_count": 52,
   "metadata": {},
   "outputs": [],
   "source": [
    "pipe = Pipeline(steps = [\n",
    "    ('count', CountVectorizer()),\n",
    "    ('svc', SVC())\n",
    "])\n",
    "\n",
    "params = {\n",
    "    'count__ngram_range' : [(1,1), (1,2), (1,3), (2,2)],\n",
    "    'count__stop_words'  : ['english', stop_words, None],\n",
    "    'svc__C'              : [550, 600, 650]\n",
    "}\n",
    "\n",
    "gs_cvec_svc = GridSearchCV(pipe,\n",
    "                 param_grid = params,\n",
    "                 cv = 5,\n",
    "                 scoring = 'accuracy')\n",
    "\n",
    "gs_cvec_svc.fit(X_train, y_train);"
   ]
  },
  {
   "cell_type": "code",
   "execution_count": 53,
   "metadata": {},
   "outputs": [
    {
     "data": {
      "text/plain": [
       "Pipeline(memory=None,\n",
       "         steps=[('count',\n",
       "                 CountVectorizer(analyzer='word', binary=False,\n",
       "                                 decode_error='strict',\n",
       "                                 dtype=<class 'numpy.int64'>, encoding='utf-8',\n",
       "                                 input='content', lowercase=True, max_df=1.0,\n",
       "                                 max_features=None, min_df=1,\n",
       "                                 ngram_range=(1, 1), preprocessor=None,\n",
       "                                 stop_words=None, strip_accents=None,\n",
       "                                 token_pattern='(?u)\\\\b\\\\w\\\\w+\\\\b',\n",
       "                                 tokenizer=None, vocabulary=None)),\n",
       "                ('svc',\n",
       "                 SVC(C=600, cache_size=200, class_weight=None, coef0=0.0,\n",
       "                     decision_function_shape='ovr', degree=3,\n",
       "                     gamma='auto_deprecated', kernel='rbf', max_iter=-1,\n",
       "                     probability=False, random_state=None, shrinking=True,\n",
       "                     tol=0.001, verbose=False))],\n",
       "         verbose=False)"
      ]
     },
     "execution_count": 53,
     "metadata": {},
     "output_type": "execute_result"
    }
   ],
   "source": [
    "gs_cvec_svc.best_estimator_"
   ]
  },
  {
   "cell_type": "code",
   "execution_count": 54,
   "metadata": {},
   "outputs": [
    {
     "data": {
      "text/plain": [
       "0.8953333333333333"
      ]
     },
     "execution_count": 54,
     "metadata": {},
     "output_type": "execute_result"
    }
   ],
   "source": [
    "gs_cvec_svc.score(X_train, y_train)"
   ]
  },
  {
   "cell_type": "code",
   "execution_count": 55,
   "metadata": {},
   "outputs": [
    {
     "data": {
      "text/plain": [
       "0.768"
      ]
     },
     "execution_count": 55,
     "metadata": {},
     "output_type": "execute_result"
    }
   ],
   "source": [
    "gs_cvec_svc.best_score_"
   ]
  },
  {
   "cell_type": "code",
   "execution_count": 56,
   "metadata": {},
   "outputs": [
    {
     "data": {
      "text/plain": [
       "0.7545"
      ]
     },
     "execution_count": 56,
     "metadata": {},
     "output_type": "execute_result"
    }
   ],
   "source": [
    "gs_cvec_svc.score(X_test, y_test)"
   ]
  },
  {
   "cell_type": "code",
   "execution_count": 57,
   "metadata": {},
   "outputs": [],
   "source": [
    "pipe = Pipeline(steps = [\n",
    "    ('tfidf', TfidfVectorizer()),\n",
    "    ('svc', SVC())\n",
    "])\n",
    "\n",
    "params = {\n",
    "    'tfidf__ngram_range' : [(1,1), (1,2), (1,3), (2,2)],\n",
    "    'tfidf__stop_words'  : ['english', stop_words, None],\n",
    "    'svc__C'              : [400, 450, 500]\n",
    "}\n",
    "\n",
    "gs_tfidf_svc = GridSearchCV(pipe,\n",
    "                 param_grid = params,\n",
    "                 cv = 5,\n",
    "                 scoring = 'accuracy')\n",
    "\n",
    "gs_tfidf_svc.fit(X_train, y_train);"
   ]
  },
  {
   "cell_type": "code",
   "execution_count": 58,
   "metadata": {},
   "outputs": [
    {
     "data": {
      "text/plain": [
       "Pipeline(memory=None,\n",
       "         steps=[('tfidf',\n",
       "                 TfidfVectorizer(analyzer='word', binary=False,\n",
       "                                 decode_error='strict',\n",
       "                                 dtype=<class 'numpy.float64'>,\n",
       "                                 encoding='utf-8', input='content',\n",
       "                                 lowercase=True, max_df=1.0, max_features=None,\n",
       "                                 min_df=1, ngram_range=(1, 1), norm='l2',\n",
       "                                 preprocessor=None, smooth_idf=True,\n",
       "                                 stop_words=['through', 'front', 'whatever',\n",
       "                                             'wherein', 'cannot', 'seemed',...\n",
       "                                 strip_accents=None, sublinear_tf=False,\n",
       "                                 token_pattern='(?u)\\\\b\\\\w\\\\w+\\\\b',\n",
       "                                 tokenizer=None, use_idf=True,\n",
       "                                 vocabulary=None)),\n",
       "                ('svc',\n",
       "                 SVC(C=450, cache_size=200, class_weight=None, coef0=0.0,\n",
       "                     decision_function_shape='ovr', degree=3,\n",
       "                     gamma='auto_deprecated', kernel='rbf', max_iter=-1,\n",
       "                     probability=False, random_state=None, shrinking=True,\n",
       "                     tol=0.001, verbose=False))],\n",
       "         verbose=False)"
      ]
     },
     "execution_count": 58,
     "metadata": {},
     "output_type": "execute_result"
    }
   ],
   "source": [
    "gs_tfidf_svc.best_estimator_"
   ]
  },
  {
   "cell_type": "code",
   "execution_count": 59,
   "metadata": {},
   "outputs": [
    {
     "data": {
      "text/plain": [
       "0.8551666666666666"
      ]
     },
     "execution_count": 59,
     "metadata": {},
     "output_type": "execute_result"
    }
   ],
   "source": [
    "gs_tfidf_svc.score(X_train, y_train)"
   ]
  },
  {
   "cell_type": "code",
   "execution_count": 60,
   "metadata": {},
   "outputs": [
    {
     "data": {
      "text/plain": [
       "0.7688333333333334"
      ]
     },
     "execution_count": 60,
     "metadata": {},
     "output_type": "execute_result"
    }
   ],
   "source": [
    "gs_tfidf_svc.best_score_"
   ]
  },
  {
   "cell_type": "code",
   "execution_count": 61,
   "metadata": {},
   "outputs": [
    {
     "data": {
      "text/plain": [
       "0.7545"
      ]
     },
     "execution_count": 61,
     "metadata": {},
     "output_type": "execute_result"
    }
   ],
   "source": [
    "gs_tfidf_svc.score(X_test, y_test)"
   ]
  },
  {
   "cell_type": "markdown",
   "metadata": {},
   "source": [
    "These models are good, but score just below the Multinomial Naive Bayes models. Next up is a Decision Tree model."
   ]
  },
  {
   "cell_type": "markdown",
   "metadata": {},
   "source": [
    "### Decision Tree Models"
   ]
  },
  {
   "cell_type": "code",
   "execution_count": 62,
   "metadata": {
    "scrolled": false
   },
   "outputs": [],
   "source": [
    "pipe = Pipeline(steps = [\n",
    "    ('count', CountVectorizer()),\n",
    "    ('dt', DecisionTreeClassifier(random_state = 19))\n",
    "])\n",
    "\n",
    "params = {\n",
    "    'count__ngram_range' : [(1,1), (1,2), (1,3), (2,2)],\n",
    "    'count__stop_words'  : ['english', stop_words, None],\n",
    "    'dt__max_depth'      : [5, 7, 9, None]\n",
    "}\n",
    "\n",
    "gs_cvec_dt = GridSearchCV(pipe,\n",
    "                 param_grid = params,\n",
    "                 cv = 5,\n",
    "                 scoring = 'accuracy')\n",
    "\n",
    "gs_cvec_dt.fit(X_train, y_train);"
   ]
  },
  {
   "cell_type": "code",
   "execution_count": 63,
   "metadata": {},
   "outputs": [
    {
     "data": {
      "text/plain": [
       "Pipeline(memory=None,\n",
       "         steps=[('count',\n",
       "                 CountVectorizer(analyzer='word', binary=False,\n",
       "                                 decode_error='strict',\n",
       "                                 dtype=<class 'numpy.int64'>, encoding='utf-8',\n",
       "                                 input='content', lowercase=True, max_df=1.0,\n",
       "                                 max_features=None, min_df=1,\n",
       "                                 ngram_range=(1, 2), preprocessor=None,\n",
       "                                 stop_words=['through', 'front', 'whatever',\n",
       "                                             'wherein', 'cannot', 'seemed',\n",
       "                                             'nothing', 'we', 'between', 'do...\n",
       "                                 token_pattern='(?u)\\\\b\\\\w\\\\w+\\\\b',\n",
       "                                 tokenizer=None, vocabulary=None)),\n",
       "                ('dt',\n",
       "                 DecisionTreeClassifier(class_weight=None, criterion='gini',\n",
       "                                        max_depth=None, max_features=None,\n",
       "                                        max_leaf_nodes=None,\n",
       "                                        min_impurity_decrease=0.0,\n",
       "                                        min_impurity_split=None,\n",
       "                                        min_samples_leaf=1, min_samples_split=2,\n",
       "                                        min_weight_fraction_leaf=0.0,\n",
       "                                        presort=False, random_state=19,\n",
       "                                        splitter='best'))],\n",
       "         verbose=False)"
      ]
     },
     "execution_count": 63,
     "metadata": {},
     "output_type": "execute_result"
    }
   ],
   "source": [
    "gs_cvec_dt.best_estimator_"
   ]
  },
  {
   "cell_type": "code",
   "execution_count": 64,
   "metadata": {
    "scrolled": true
   },
   "outputs": [
    {
     "data": {
      "text/plain": [
       "0.9833333333333333"
      ]
     },
     "execution_count": 64,
     "metadata": {},
     "output_type": "execute_result"
    }
   ],
   "source": [
    "gs_cvec_dt.score(X_train, y_train)"
   ]
  },
  {
   "cell_type": "code",
   "execution_count": 65,
   "metadata": {},
   "outputs": [
    {
     "data": {
      "text/plain": [
       "0.7275"
      ]
     },
     "execution_count": 65,
     "metadata": {},
     "output_type": "execute_result"
    }
   ],
   "source": [
    "gs_cvec_dt.best_score_"
   ]
  },
  {
   "cell_type": "code",
   "execution_count": 66,
   "metadata": {},
   "outputs": [
    {
     "data": {
      "text/plain": [
       "0.711"
      ]
     },
     "execution_count": 66,
     "metadata": {},
     "output_type": "execute_result"
    }
   ],
   "source": [
    "gs_cvec_dt.score(X_test, y_test)"
   ]
  },
  {
   "cell_type": "markdown",
   "metadata": {},
   "source": [
    "This model has a lower accuracy score than the Multinomial Naive Bayes models, which is still the best model for now. Going to try BaggingClassifier next, as it's the next step in trying decision tree modeling."
   ]
  },
  {
   "cell_type": "markdown",
   "metadata": {},
   "source": [
    "### BaggingClassifier Models"
   ]
  },
  {
   "cell_type": "code",
   "execution_count": 67,
   "metadata": {},
   "outputs": [],
   "source": [
    "pipe = Pipeline(steps = [\n",
    "    ('count', CountVectorizer()),\n",
    "    ('bag', BaggingClassifier(random_state = 19))\n",
    "])\n",
    "\n",
    "params = {\n",
    "    'count__ngram_range' : [(1,1), (1,2), (1,3), (2,2)],\n",
    "    'count__stop_words'  : ['english', stop_words, None],\n",
    "    'bag__n_estimators'  : [10, 15, 20, 25]\n",
    "}\n",
    "\n",
    "gs_cvec_bag = GridSearchCV(pipe,\n",
    "                 param_grid = params,\n",
    "                 cv = 5,\n",
    "                 scoring = 'accuracy')\n",
    "\n",
    "gs_cvec_bag.fit(X_train, y_train);"
   ]
  },
  {
   "cell_type": "code",
   "execution_count": 68,
   "metadata": {},
   "outputs": [
    {
     "data": {
      "text/plain": [
       "Pipeline(memory=None,\n",
       "         steps=[('count',\n",
       "                 CountVectorizer(analyzer='word', binary=False,\n",
       "                                 decode_error='strict',\n",
       "                                 dtype=<class 'numpy.int64'>, encoding='utf-8',\n",
       "                                 input='content', lowercase=True, max_df=1.0,\n",
       "                                 max_features=None, min_df=1,\n",
       "                                 ngram_range=(1, 1), preprocessor=None,\n",
       "                                 stop_words=['through', 'front', 'whatever',\n",
       "                                             'wherein', 'cannot', 'seemed',\n",
       "                                             'nothing', 'we', 'between', 'do...\n",
       "                                             'formerly', 'my', 'i', 'very',\n",
       "                                             'by', 'many', ...],\n",
       "                                 strip_accents=None,\n",
       "                                 token_pattern='(?u)\\\\b\\\\w\\\\w+\\\\b',\n",
       "                                 tokenizer=None, vocabulary=None)),\n",
       "                ('bag',\n",
       "                 BaggingClassifier(base_estimator=None, bootstrap=True,\n",
       "                                   bootstrap_features=False, max_features=1.0,\n",
       "                                   max_samples=1.0, n_estimators=25,\n",
       "                                   n_jobs=None, oob_score=False,\n",
       "                                   random_state=19, verbose=0,\n",
       "                                   warm_start=False))],\n",
       "         verbose=False)"
      ]
     },
     "execution_count": 68,
     "metadata": {},
     "output_type": "execute_result"
    }
   ],
   "source": [
    "gs_cvec_bag.best_estimator_"
   ]
  },
  {
   "cell_type": "code",
   "execution_count": 69,
   "metadata": {
    "scrolled": true
   },
   "outputs": [
    {
     "data": {
      "text/plain": [
       "0.9798333333333333"
      ]
     },
     "execution_count": 69,
     "metadata": {},
     "output_type": "execute_result"
    }
   ],
   "source": [
    "gs_cvec_bag.score(X_train, y_train)"
   ]
  },
  {
   "cell_type": "code",
   "execution_count": 70,
   "metadata": {},
   "outputs": [
    {
     "data": {
      "text/plain": [
       "0.7403333333333333"
      ]
     },
     "execution_count": 70,
     "metadata": {},
     "output_type": "execute_result"
    }
   ],
   "source": [
    "gs_cvec_bag.best_score_"
   ]
  },
  {
   "cell_type": "code",
   "execution_count": 71,
   "metadata": {},
   "outputs": [
    {
     "data": {
      "text/plain": [
       "0.7205"
      ]
     },
     "execution_count": 71,
     "metadata": {},
     "output_type": "execute_result"
    }
   ],
   "source": [
    "gs_cvec_bag.score(X_test, y_test)"
   ]
  },
  {
   "cell_type": "markdown",
   "metadata": {},
   "source": [
    "This is slightly better than the decision tree model, but still not as good as other models. Next step is to try Random Forest."
   ]
  },
  {
   "cell_type": "markdown",
   "metadata": {},
   "source": [
    "### Random Forest Models"
   ]
  },
  {
   "cell_type": "code",
   "execution_count": 72,
   "metadata": {
    "scrolled": true
   },
   "outputs": [],
   "source": [
    "pipe = Pipeline(steps = [\n",
    "    ('count', CountVectorizer()),\n",
    "    ('rf', RandomForestClassifier(random_state = 19))\n",
    "])\n",
    "\n",
    "params = {\n",
    "    'count__ngram_range' : [(1,1), (1,2), (1,3), (2,2)],\n",
    "    'count__stop_words'  : ['english', stop_words, None],\n",
    "    'rf__n_estimators'  : [10, 50, 100]\n",
    "}\n",
    "\n",
    "gs_cvec_rf = GridSearchCV(pipe,\n",
    "                 param_grid = params,\n",
    "                 cv = 5,\n",
    "                 scoring = 'accuracy')\n",
    "\n",
    "gs_cvec_rf.fit(X_train, y_train);"
   ]
  },
  {
   "cell_type": "code",
   "execution_count": 73,
   "metadata": {},
   "outputs": [
    {
     "data": {
      "text/plain": [
       "Pipeline(memory=None,\n",
       "         steps=[('count',\n",
       "                 CountVectorizer(analyzer='word', binary=False,\n",
       "                                 decode_error='strict',\n",
       "                                 dtype=<class 'numpy.int64'>, encoding='utf-8',\n",
       "                                 input='content', lowercase=True, max_df=1.0,\n",
       "                                 max_features=None, min_df=1,\n",
       "                                 ngram_range=(1, 1), preprocessor=None,\n",
       "                                 stop_words=None, strip_accents=None,\n",
       "                                 token_pattern='(?u)\\\\b\\\\w\\\\w+\\\\b',\n",
       "                                 tokenizer=None, vocabulary=No...\n",
       "                 RandomForestClassifier(bootstrap=True, class_weight=None,\n",
       "                                        criterion='gini', max_depth=None,\n",
       "                                        max_features='auto',\n",
       "                                        max_leaf_nodes=None,\n",
       "                                        min_impurity_decrease=0.0,\n",
       "                                        min_impurity_split=None,\n",
       "                                        min_samples_leaf=1, min_samples_split=2,\n",
       "                                        min_weight_fraction_leaf=0.0,\n",
       "                                        n_estimators=100, n_jobs=None,\n",
       "                                        oob_score=False, random_state=19,\n",
       "                                        verbose=0, warm_start=False))],\n",
       "         verbose=False)"
      ]
     },
     "execution_count": 73,
     "metadata": {},
     "output_type": "execute_result"
    }
   ],
   "source": [
    "gs_cvec_rf.best_estimator_"
   ]
  },
  {
   "cell_type": "code",
   "execution_count": 74,
   "metadata": {},
   "outputs": [
    {
     "data": {
      "text/plain": [
       "0.7635"
      ]
     },
     "execution_count": 74,
     "metadata": {},
     "output_type": "execute_result"
    }
   ],
   "source": [
    "gs_cvec_rf.best_score_"
   ]
  },
  {
   "cell_type": "code",
   "execution_count": 75,
   "metadata": {},
   "outputs": [
    {
     "data": {
      "text/plain": [
       "0.75"
      ]
     },
     "execution_count": 75,
     "metadata": {},
     "output_type": "execute_result"
    }
   ],
   "source": [
    "gs_cvec_rf.score(X_test, y_test)"
   ]
  },
  {
   "cell_type": "markdown",
   "metadata": {},
   "source": [
    "This is close to the MultinomialNB models, but still a few points lower. It doesn't seem like we're going to get any higher scores."
   ]
  },
  {
   "cell_type": "markdown",
   "metadata": {},
   "source": [
    "## Model Selection"
   ]
  },
  {
   "cell_type": "markdown",
   "metadata": {},
   "source": [
    "The Multinomial Naive Bayes model labelled gs_cvec_nb is the best model out of all of the models we've tested. The accruacy on the testing data is the highest of all the models with a score of 0.7805.  \n",
    "\n",
    "I will use gs_tfidf_nb for evaluation, however, as it has a similarly high score, but is better for modeling because it incorporates stop words. It's definitely not a perfect model, but it's the best one we have at the moment."
   ]
  },
  {
   "cell_type": "markdown",
   "metadata": {},
   "source": [
    "## Model Evaluation"
   ]
  },
  {
   "cell_type": "code",
   "execution_count": 77,
   "metadata": {
    "scrolled": false
   },
   "outputs": [
    {
     "data": {
      "image/png": "[encoded data removed]",
      "text/plain": [
       "<Figure size 1008x504 with 2 Axes>"
      ]
     },
     "metadata": {},
     "output_type": "display_data"
    }
   ],
   "source": [
    "y_pred = gs_tfidf_nb.predict(X_test) #getting predictions from the gs_tfidf_nb model\n",
    "\n",
    "def pretty_confusion_matrix(y_true, y_pred):\n",
    "    '''\n",
    "    Creates a confusion matrix and puts it into a prettier looking image.\n",
    "    '''\n",
    "    # handling data\n",
    "    cm = confusion_matrix(y_true, y_pred)\n",
    "    labels = y_true.unique()\n",
    "    \n",
    "    # plotting\n",
    "    sns.set(font_scale=1.5)\n",
    "    plt.figure(figsize=(14,7))\n",
    "    \n",
    "    chart = sns.heatmap(cm, annot=True, fmt='g', cmap=\"rainbow_r\", xticklabels = labels, yticklabels = labels)\n",
    "    chart.set_yticklabels(chart.get_yticklabels(), rotation=0)\n",
    "    plt.title(\"Confusion Matrix\")\n",
    "    plt.xlabel('Predicted Class')\n",
    "    plt.ylabel('True Class')\n",
    "\n",
    "pretty_confusion_matrix(y_test, y_pred)"
   ]
  },
  {
   "cell_type": "code",
   "execution_count": 78,
   "metadata": {},
   "outputs": [
    {
     "name": "stdout",
     "output_type": "stream",
     "text": [
      "The True Positive Rate is 0.7809621289662231\n",
      "The True Negative Rate is 0.7683284457478006\n"
     ]
    }
   ],
   "source": [
    "TPR = 763 / (763 + 214)\n",
    "TNR = 786 / (786 + 237)\n",
    "print(f'The True Positive Rate is {TPR}')\n",
    "print(f'The True Negative Rate is {TNR}')"
   ]
  },
  {
   "cell_type": "markdown",
   "metadata": {},
   "source": [
    "The gs_tfidf_nb model correctly predicts 763 posts from r/traaaaaaannnnnnnnnns, while incorrectly predicting 237 posts from that subreddit. The model does better in predicting posts from r/actualleasbians, correctly predicting 786 posts with only 214 incorrect predictions for posts in the trans subreddit.\n",
    "\n",
    "Assuming r/traaaaaaannnnnnnnnns is a \"positive\" result, the True Positive Rate is about 78.1%. If we label r/actuallesbians as \"negative,\" the True Negative Rate is about 76.8%."
   ]
  },
  {
   "cell_type": "code",
   "execution_count": 79,
   "metadata": {},
   "outputs": [
    {
     "data": {
      "image/png": "[encoded data removed]",
      "text/plain": [
       "<Figure size 720x720 with 1 Axes>"
      ]
     },
     "metadata": {},
     "output_type": "display_data"
    }
   ],
   "source": [
    "def get_phrases(subreddit):\n",
    "    '''\n",
    "    Function takes a subreddit, runs it through a CountVectorizer, \n",
    "    then graphs the top 20 words of phrases in the subreddit.\n",
    "    '''\n",
    "    # running a vectorizer with the same ngrams as the gs_tfidf_nb model\n",
    "    cvec = CountVectorizer(stop_words = stop_words, ngram_range = (1,3))\n",
    "    \n",
    "    # creating a dataframe of the most used words in the subreddit\n",
    "    cvec_df = pd.DataFrame(cvec.fit_transform(data[data['subreddit'] == subreddit]['title']).todense(), \n",
    "                           columns = cvec.get_feature_names())\n",
    "    cv = cvec_df.sum(axis = 0)\n",
    "    df_cvec = cv.sort_values(ascending = False).head(20) # getting the top 20 words or phrases\n",
    "    df_cvec = pd.DataFrame(df_cvec, columns = ['Count_Vectorizer(units)'])\n",
    "    df_cvec['Word'] = df_cvec.index\n",
    "    \n",
    "    # plotting\n",
    "    plt.figure(figsize= (10,10))\n",
    "    plt.title('Top Words and Phrases in r/' + subreddit, fontsize=25)\n",
    "    sns.set_style(\"darkgrid\")\n",
    "    sns.barplot(data = df_cvec, x = 'Count_Vectorizer(units)', y = 'Word', orient = 'h')\n",
    "    plt.xlabel('Frequency', fontsize=22)\n",
    "    plt.ylabel('Words or Phrases', fontsize=22)\n",
    "    plt.tick_params(labelsize = 18)\n",
    "    plt.show();\n",
    "    \n",
    "get_phrases('actuallesbians')"
   ]
  },
  {
   "cell_type": "markdown",
   "metadata": {},
   "source": [
    "All of the top words in r/actuallesbians are single words, despite an ngram range of (1, 3), so there are no common phrases that are often repeated on the subreddit. The top words in the community do say a lot about the tone of the discussion there. Both \"lesbian\" and \"lesbians\" are included in the top list of words, along with words like \"love,\" and \"girlfriend.\" The word choice seems to indicate that the community tends to be very individualized with members talking about themselves of the people they're close to.\n",
    "\n",
    "Based on the word choices here, r/actuallesbians tends to be very focused on individual relationships with members talking about how much they love their girlfriends or just talking about being gay. Towards the bottom of the list there are words like \"help\" and \"advice,\" indicating that many people seem to use the subreddit to get advice from other queer women.\n",
    "\n",
    "Unsurprisingly, the most common pronouns used in the subreddit are she and her."
   ]
  },
  {
   "cell_type": "code",
   "execution_count": 80,
   "metadata": {
    "scrolled": false
   },
   "outputs": [
    {
     "data": {
      "image/png": "[encoded data removed]",
      "text/plain": [
       "<Figure size 720x720 with 1 Axes>"
      ]
     },
     "metadata": {},
     "output_type": "display_data"
    }
   ],
   "source": [
    "get_phrases('traaaaaaannnnnnnnnns')"
   ]
  },
  {
   "cell_type": "markdown",
   "metadata": {},
   "source": [
    "Unsurprisingly, the most common word used in r/traaaaaaannnnnnnnnns is \"trans.\" The word is also used in a few phrases that are included in the list of top words or phrases. There is a lot of talk about trans rights in r/traaaaaaannnnnnnnnns, with the phrase \"says trans rights\" appearing often enough to be high on the list of most frequently used words or phrases. The phrase is often used to indicate that a [person or company supports trans rights](https://knowyourmeme.com/memes/trans-rights). The phrase is usually paired with an image of something in the colors of the trans flag (blue, pink, and white).\n",
    "\n",
    "\"Dysphoria\" is also included in the list of most common words or phrases in r/traaaaaaannnnnnnnnns. Dysphoria is the feeling that something about your body is wrong. For example, one might have dysphoria because their body's voice is too low or too high depending on their gender identity. It is a common and often painful experience among trans people, which leads to it being discussed fairly often.\n",
    "\n",
    "Despite the fact that r/traaaaaaannnnnnnnnns is open to people of all genders, the only pronouns that appear in the most frequent list are they and she. That seems to indicate that there aren't many transmasculine people who use he/him pronouns in the subreddit."
   ]
  },
  {
   "cell_type": "markdown",
   "metadata": {},
   "source": [
    "Comparing the word choices of the two subreddits, it appears that r/actuallesbians tends to be much more about individual pride and experiences while r/traaaaaaannnnnnnnnns talks more about the community and interacting with those outside of it. While r/traaaaaaannnnnnnnnns is busy talking about trans rights, r/actuallesbians posters are talking about how much they love their girlfriends and being gay. Someone in r/traaaaaaannnnnnnnnns might turn more toward the community to talk about their dysphoria, while someone in r/actuallesbians will turn more inward to ask for advice. \n",
    "\n",
    "Both communities seem to talk about their feelings quite a lot. And there's also a discussion of girls in general in both communities. For r/actuallesbians that's likely talk about attractive girls or just cute girls in general. In r/traaaaaaannnnnnnnnns it might be about how the poster feels about being a girl. Given the potential overlap of the two groups, a post about a girl in r/traaaaaaannnnnnnnnns could also be about a cute girl, either wanting to look like her or finding her attractive in general."
   ]
  },
  {
   "cell_type": "code",
   "execution_count": 28,
   "metadata": {
    "scrolled": true
   },
   "outputs": [],
   "source": [
    "# getting the words or phrases from the vectorizer\n",
    "top_words = gs_tfidf_nb.best_estimator_.steps[0][1].get_feature_names()\n",
    "\n",
    "# getting the coefficients of the words or phrases\n",
    "word_coefs = gs_tfidf_nb.best_estimator_.steps[1][1].coef_[0]\n",
    "\n",
    "# zipping the coefficients together with their associated words or phrases\n",
    "coefs = pd.DataFrame(list(zip(top_words, word_coefs)), columns = ['word', 'coefficient'])"
   ]
  },
  {
   "cell_type": "code",
   "execution_count": 124,
   "metadata": {},
   "outputs": [
    {
     "data": {
      "image/png": "[encoded data removed]",
      "text/plain": [
       "<Figure size 720x1080 with 1 Axes>"
      ]
     },
     "metadata": {},
     "output_type": "display_data"
    }
   ],
   "source": [
    "ss = StandardScaler()\n",
    "coefs['coefficient'] = ss.fit_transform(coefs[['coefficient']].values)\n",
    "coefs_top = coefs.sort_values(by = 'coefficient', ascending = False).head(20)\n",
    "\n",
    "# plotting coefficients\n",
    "plt.figure(figsize=(10,15))\n",
    "plt.title('Coefficients Classifying Queer Communities',fontsize=25)\n",
    "sns.set_style(\"darkgrid\")\n",
    "sns.barplot(data= coefs_top,\n",
    "            x='coefficient',y='word',orient='h', palette=\"husl\")\n",
    "plt.xlabel('coefficient',fontsize=20)\n",
    "plt.ylabel('word',fontsize=20)\n",
    "plt.tick_params(labelsize=20)"
   ]
  },
  {
   "cell_type": "markdown",
   "metadata": {},
   "source": [
    "Applying a StandardScaler to the coefficients shows that most of the significant words in the model  come from the the r/traaaaaaannnnnnnnnns subreddit. While a MultinomialNB model would usually produce an array of coefficients for both classes, this model only produced one array which seems to align with the trans subreddit.\n",
    "\n",
    "Before applying a StandardScaler, all of the coefficients in this model come out as negative. Even using binary values for y result in negative coefficients. In this version, the highest coefficients mostly come from posts in r/traaaaaaannnnnnnnnns with \"trans\" as the largest coefficient. \n",
    "\n",
    "When using binary values for y, the largest (still negative) coefficients mostly come from r/actuallesbians."
   ]
  },
  {
   "cell_type": "markdown",
   "metadata": {},
   "source": [
    "## Conclusion"
   ]
  },
  {
   "cell_type": "markdown",
   "metadata": {},
   "source": [
    "While it is possible to classify posts from r/actuallesbians and r/traaaaaaannnnnnnnnns with decent accuracy, there doesn't appear to be many stand out words that seperate the two groups. After running through several models we were only to accurately predict lesbian-specific posts 76.8% of the time and trans-specific posts about 78.1% of the time. Beyond the words \"trans\" and \"rights,\" there are no uncommon words that are specific to either community.\n",
    "\n",
    "From this we can say that there is a difference in how the two communities speak amongst themselves, but that difference is smaller than we may have thought before working on this project. This could potentially be due to overlap in the two groups. While r/traaaaaaannnnnnnnnns is dedicated to trans and non-binary individuals, many would still be welcome in r/actuallesbians which accepts cis, trans, lesbian, bisexual, and pansexual people who feel they fit in the category of \"queer woman.\""
   ]
  },
  {
   "cell_type": "markdown",
   "metadata": {},
   "source": [
    "## Recommendations "
   ]
  },
  {
   "cell_type": "markdown",
   "metadata": {},
   "source": [
    "As mentioned in the conclusion, there is the potential for a lot of overlap between the two subreddits chosen for this project. While sticking to Reddit, it might be beneficial to choose other queer communities on the platform to see if there are bigger differences between queer men and queer women, for example. There would be much less overlap between two such communities.\n",
    "\n",
    "Further research could also examine how queer communities talk to themsleves compared to how they talk to other people. A good example of this would be using r/traaaaaaannnnnnnnnns (or another subreddit for trans people, made by trans people) to something like r/asktransgender, a subreddit where (mostly) cis or questioning people can ask questions of the trans community. There might be similar word choices in such a scenario, but there has the potential to be some code-switching that happens when trans people speak to an assumed cis audience versus speaking to an assumed trans audience."
   ]
  },
  {
   "cell_type": "markdown",
   "metadata": {},
   "source": [
    "### References"
   ]
  },
  {
   "cell_type": "markdown",
   "metadata": {},
   "source": [
    "- [r/traaaaaaannnnnnnnnns](https://www.reddit.com/r/traaaaaaannnnnnnnnns/)  \n",
    "- [r/actuallesbians](https://www.reddit.com/r/actuallesbians/)\n",
    "- [Know Your Meme](https://knowyourmeme.com/memes/trans-rights)\n",
    "- [Pushshift API](https://pushshift.io/)"
   ]
  }
 ],
 "metadata": {
  "kernelspec": {
   "display_name": "Python 3",
   "language": "python",
   "name": "python3"
  },
  "language_info": {
   "codemirror_mode": {
    "name": "ipython",
    "version": 3
   },
   "file_extension": ".py",
   "mimetype": "text/x-python",
   "name": "python",
   "nbconvert_exporter": "python",
   "pygments_lexer": "ipython3",
   "version": "3.7.5"
  },
  "toc": {
   "base_numbering": 1,
   "nav_menu": {},
   "number_sections": true,
   "sideBar": false,
   "skip_h1_title": false,
   "title_cell": "Table of Contents",
   "title_sidebar": "Contents",
   "toc_cell": false,
   "toc_position": {
    "height": "calc(100% - 180px)",
    "left": "10px",
    "top": "150px",
    "width": "336px"
   },
   "toc_section_display": false,
   "toc_window_display": false
  },
  "varInspector": {
   "cols": {
    "lenName": 16,
    "lenType": 16,
    "lenVar": 40
   },
   "kernels_config": {
    "python": {
     "delete_cmd_postfix": "",
     "delete_cmd_prefix": "del ",
     "library": "var_list.py",
     "varRefreshCmd": "print(var_dic_list())"
    },
    "r": {
     "delete_cmd_postfix": ") ",
     "delete_cmd_prefix": "rm(",
     "library": "var_list.r",
     "varRefreshCmd": "cat(var_dic_list()) "
    }
   },
   "types_to_exclude": [
    "module",
    "function",
    "builtin_function_or_method",
    "instance",
    "_Feature"
   ],
   "window_display": false
  }
 },
 "nbformat": 4,
 "nbformat_minor": 2
}
